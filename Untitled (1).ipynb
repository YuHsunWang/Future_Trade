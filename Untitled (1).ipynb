{
 "cells": [
  {
   "cell_type": "code",
   "execution_count": 1,
   "id": "micro-taiwan",
   "metadata": {},
   "outputs": [
    {
     "data": {
      "text/html": [
       "Current session configs: <tt>{'name': 'multinomial', 'driverMemory': '1000M', 'executorMemory': '8000M', 'executorCores': 4, 'numExecutors': 25, 'conf': {'spark.yarn.appMasterEnv.PYSPARK_PYTHON': 'pyspark_env_1.3/bin/python', 'spark.pyspark.driver.python': 'pyspark_env_1.3/bin/python', 'spark.pyspark.python': 'pyspark_env_1.3/bin/python', 'spark.yarn.dist.archives': 'hdfs://mycluster/user/webuser/ai/pyspark/env/pyspark_env_1.3.zip#pyspark_env_1.3', 'spark.jars': 'hdfs://mycluster/user/webuser/531/pyspark/env/hudi-spark-bundle_2.11-0.7.0.jar', 'spark.driver.extraClassPath': 'hdfs://mycluster/user/webuser/531/pyspark/env/hudi-spark-bundle_2.11-0.7.0.jar', 'spark.executor.extraClassPath': 'hudi-spark-bundle_2.11-0.7.0.jar', 'spark.sql.broadcastTimeout': '3600'}, 'kind': 'pyspark'}</tt><br>"
      ],
      "text/plain": [
       "<IPython.core.display.HTML object>"
      ]
     },
     "metadata": {},
     "output_type": "display_data"
    },
    {
     "data": {
      "text/html": [
       "No active sessions."
      ],
      "text/plain": [
       "<IPython.core.display.HTML object>"
      ]
     },
     "metadata": {},
     "output_type": "display_data"
    }
   ],
   "source": [
    "%%configure -f\n",
    "{\n",
    "    \"name\": \"multinomial\",\n",
    "    \"driverMemory\":\"1000M\",\n",
    "    \"executorMemory\": \"8000M\", \n",
    "    \"executorCores\": 4,\n",
    "    \"numExecutors\" :25,\n",
    "    \"conf\": \n",
    "    {\n",
    "        \"spark.yarn.appMasterEnv.PYSPARK_PYTHON\":\"pyspark_env_1.3/bin/python\",\n",
    "        \"spark.pyspark.driver.python\":\"pyspark_env_1.3/bin/python\",\n",
    "        \"spark.pyspark.python\":\"pyspark_env_1.3/bin/python\",\n",
    "        \"spark.yarn.dist.archives\":\"hdfs://mycluster/user/webuser/ai/pyspark/env/pyspark_env_1.3.zip#pyspark_env_1.3\",\n",
    "        \"spark.jars\": \"hdfs://mycluster/user/webuser/531/pyspark/env/hudi-spark-bundle_2.11-0.7.0.jar\",\n",
    "        \"spark.driver.extraClassPath\": \"hdfs://mycluster/user/webuser/531/pyspark/env/hudi-spark-bundle_2.11-0.7.0.jar\",\n",
    "        \"spark.executor.extraClassPath\": \"hudi-spark-bundle_2.11-0.7.0.jar\",\n",
    "        \"spark.sql.broadcastTimeout\": \"3600\"\n",
    "        \n",
    "    }\n",
    "}"
   ]
  },
  {
   "cell_type": "code",
   "execution_count": 2,
   "id": "furnished-journalism",
   "metadata": {},
   "outputs": [
    {
     "name": "stdout",
     "output_type": "stream",
     "text": [
      "Starting Spark application\n"
     ]
    },
    {
     "data": {
      "text/html": [
       "<table>\n",
       "<tr><th>ID</th><th>YARN Application ID</th><th>Kind</th><th>State</th><th>Spark UI</th><th>Driver log</th><th>Current session?</th></tr><tr><td>827</td><td>application_1600149154303_886955</td><td>pyspark</td><td>idle</td><td><a target=\"_blank\" href=\"http://hadoop2:9046/proxy/application_1600149154303_886955/\">Link</a></td><td><a target=\"_blank\" href=\"http://hadoop6:8042/node/containerlogs/container_1600149154303_886955_01_000001/webuser\">Link</a></td><td>✔</td></tr></table>"
      ],
      "text/plain": [
       "<IPython.core.display.HTML object>"
      ]
     },
     "metadata": {},
     "output_type": "display_data"
    },
    {
     "data": {
      "application/vnd.jupyter.widget-view+json": {
       "model_id": "",
       "version_major": 2,
       "version_minor": 0
      },
      "text/plain": [
       "FloatProgress(value=0.0, bar_style='info', description='Progress:', layout=Layout(height='25px', width='50%'),…"
      ]
     },
     "metadata": {},
     "output_type": "display_data"
    },
    {
     "name": "stdout",
     "output_type": "stream",
     "text": [
      "SparkSession available as 'spark'.\n"
     ]
    },
    {
     "data": {
      "application/vnd.jupyter.widget-view+json": {
       "model_id": "",
       "version_major": 2,
       "version_minor": 0
      },
      "text/plain": [
       "FloatProgress(value=0.0, bar_style='info', description='Progress:', layout=Layout(height='25px', width='50%'),…"
      ]
     },
     "metadata": {},
     "output_type": "display_data"
    }
   ],
   "source": [
    "%%spark\n",
    "from functools import reduce\n",
    "from ua_parser import user_agent_parser\n",
    "from pyspark.sql import SparkSession\n",
    "from pyspark.sql import functions as F\n",
    "import pyspark.sql.functions as sf\n",
    "from pyspark.sql.window import Window\n",
    "from pyspark.sql.functions import lit, when, to_timestamp\n",
    "from pyspark.sql.types import IntegerType, StructType, StringType, ArrayType, DoubleType, StructField, LongType, TimestampType "
   ]
  },
  {
   "cell_type": "code",
   "execution_count": 3,
   "id": "manufactured-maria",
   "metadata": {},
   "outputs": [],
   "source": [
    "%%local\n",
    "import numpy as np\n",
    "import pandas as pd\n",
    "import seaborn as sns\n",
    "import matplotlib.pyplot as plt"
   ]
  },
  {
   "cell_type": "code",
   "execution_count": 4,
   "id": "identified-research",
   "metadata": {},
   "outputs": [
    {
     "data": {
      "application/vnd.jupyter.widget-view+json": {
       "model_id": "",
       "version_major": 2,
       "version_minor": 0
      },
      "text/plain": [
       "FloatProgress(value=0.0, bar_style='info', description='Progress:', layout=Layout(height='25px', width='50%'),…"
      ]
     },
     "metadata": {},
     "output_type": "display_data"
    }
   ],
   "source": [
    "tslog = spark.read.parquet(\"/user/webuser/ai/recommendation/tslog_tag/2021/05/{21,22,23,24,25,26,27}/*\")"
   ]
  },
  {
   "cell_type": "code",
   "execution_count": 5,
   "id": "spread-colony",
   "metadata": {},
   "outputs": [
    {
     "data": {
      "application/vnd.jupyter.widget-view+json": {
       "model_id": "",
       "version_major": 2,
       "version_minor": 0
      },
      "text/plain": [
       "FloatProgress(value=0.0, bar_style='info', description='Progress:', layout=Layout(height='25px', width='50%'),…"
      ]
     },
     "metadata": {},
     "output_type": "display_data"
    }
   ],
   "source": [
    "# define UA parsers\n",
    "\n",
    "# Parse device family info\n",
    "parse_device_family_udf = F.udf(lambda user_agent: parse_device_family(user_agent))\n",
    "\n",
    "def parse_device_family(user_agent):\n",
    "    return user_agent_parser.ParseDevice(user_agent).get(\"family\")\n",
    "\n",
    "# Parse device model info\n",
    "parse_device_model_udf = F.udf(lambda user_agent: parse_device_model(user_agent))\n",
    "\n",
    "def parse_device_model(user_agent):\n",
    "    return user_agent_parser.ParseDevice(user_agent).get(\"model\")\n",
    "\n",
    "# Parse OS info\n",
    "parse_os_udf = F.udf(lambda user_agent: parse_os(user_agent))\n",
    "\n",
    "def parse_os(user_agent):\n",
    "    return user_agent_parser.ParseOS(user_agent).get(\"family\")"
   ]
  },
  {
   "cell_type": "code",
   "execution_count": 6,
   "id": "fresh-israel",
   "metadata": {},
   "outputs": [
    {
     "data": {
      "application/vnd.jupyter.widget-view+json": {
       "model_id": "",
       "version_major": 2,
       "version_minor": 0
      },
      "text/plain": [
       "FloatProgress(value=0.0, bar_style='info', description='Progress:', layout=Layout(height='25px', width='50%'),…"
      ]
     },
     "metadata": {},
     "output_type": "display_data"
    }
   ],
   "source": [
    "reqstid_log = tslog.filter(F.col('Request').rlike(\"reqstid=\"))  \\\n",
    ".withColumn(\"position\", F.regexp_extract(\"Request\", '(position=)(\\d+)', 2).cast(IntegerType()))  \\\n",
    ".withColumn(\"OS\", parse_os_udf(F.col(\"UserAgent\"))) \\\n",
    ".withColumn(\"is_mobile_OS\", when(F.col(\"OS\").isin([\"iOS\",\"Android\"]),1).otherwise(0)) \\\n",
    ".withColumn(\"is_mobile_source\", when(F.col(\"source\").rlike(\"https://m.ruten.com.tw\"),1).otherwise(0)) \\\n",
    ".withColumn('time_impressed', F.regexp_extract(\"Request\", '(log\\.gif\\?)(\\d+)', 2).cast(LongType()))  \\\n",
    ".withColumn(\"recommender\", F.regexp_extract(\"Request\",'(ts_set=)(\\S+)_(\\d{14})_(\\d+)_(\\d+)', 2)) \\\n",
    ".withColumn('rc', F.regexp_extract(\"Request\",'(ts_id=)(\\S+)\\.(\\d+)',2))  \\\n",
    ".withColumn('CID', F.regexp_extract(\"Request\",'(ts_id=)(\\S+)\\.(\\d+)',3))"
   ]
  },
  {
   "cell_type": "code",
   "execution_count": 7,
   "id": "accompanied-employment",
   "metadata": {},
   "outputs": [
    {
     "data": {
      "application/vnd.jupyter.widget-view+json": {
       "model_id": "",
       "version_major": 2,
       "version_minor": 0
      },
      "text/plain": [
       "FloatProgress(value=0.0, bar_style='info', description='Progress:', layout=Layout(height='25px', width='50%'),…"
      ]
     },
     "metadata": {},
     "output_type": "display_data"
    },
    {
     "name": "stdout",
     "output_type": "stream",
     "text": [
      "+--------------+------------------------------------+--------+-----+-----------------------------------------------------------------------------------------------+-------+-----+--------------+-------------+--------------+-----+-------+----------------+--------+--------+--------+--------------+--------------+-----------+--------------------+----------+-------------+---------+-----------+------------+\n",
      "|gno           |requestId                           |position|price|title                                                                                          |soldNum|watch|sellerDiscount|rutenDiscount|noShippingCost|pCoin|oversea|shippingDiscount|campaign|maxPrice|minPrice|limitesDeliver|time_impressed|recommender|rc                  |CID       |was_impressed|row_order|was_clicked|time_clicked|\n",
      "+--------------+------------------------------------+--------+-----+-----------------------------------------------------------------------------------------------+-------+-----+--------------+-------------+--------------+-----+-------+----------------+--------+--------+--------+--------------+--------------+-----------+--------------------+----------+-------------+---------+-----------+------------+\n",
      "|10060816804565|2d487675-d1d7-44cc-8c94-219d80d38c26|3       |8000 |[金門帆布] 高級轎車17尺x9尺*高6尺活動車庫:倉庫*路邊攤販*重型機車庫*苗栗-新竹-桃園-新台北市-基隆|4      |16   |false         |false        |false         |true |false  |false           |false   |8000    |8000    |false         |1621749406175 |also       |37073E0A3B0D380F3D05|1550231032|1            |1        |0          |null        |\n",
      "|10061017857469|ffc30d04-8fc2-4858-8c10-2a9c00db820d|37      |260  |【CHINJUN  】抗皺商務襯衫-長袖 <男士 經典 上班 業務 工作 素面 條紋 白 藍 黑 紫 舒適>           |5252   |145  |false         |false        |false         |true |false  |true            |false   |260     |260     |false         |1621761186981 |also       |20210124100570798571|1611489181|1            |1        |0          |null        |\n",
      "|11061211015683|804c4164-8276-4c25-9053-c0e89145605e|9       |1400 |段木香菇                                                                                       |0      |3    |false         |false        |true          |false|false  |false           |false   |1400    |1400    |false         |1621943622216 |also       |370437053D0B3D0A390E|1593121966|1            |2        |0          |null        |\n",
      "|11061221366380|065b5ba1-af95-4a76-b5d0-ba4f1bc8b5ac|164     |50   |【歐樂克修繕家】防污膠帶 養生膠帶 噴漆 膠帶 登革熱 噴藥 遮蔽膠帶 不留殘膠550 ~ 2700 3200 3600  |1338   |60   |false         |false        |false         |true |false  |true            |false   |110     |50      |false         |1621535055211 |recmd      |37053301340C350C3B0B|1582357174|1            |1        |0          |null        |\n",
      "|11061230208072|6b825c28-f5e2-4557-a735-8a365c86be70|27      |400  |【168開運坊】化煞系列【化煞山海鎮小/船入港】開光 /擇日                                         |178    |5    |false         |true         |false         |true |false  |true            |false   |400     |400     |false         |1622116135786 |recmd      |3703340038083F0F3E08|1605077820|1            |1        |0          |null        |\n",
      "+--------------+------------------------------------+--------+-----+-----------------------------------------------------------------------------------------------+-------+-----+--------------+-------------+--------------+-----+-------+----------------+--------+--------+--------+--------------+--------------+-----------+--------------------+----------+-------------+---------+-----------+------------+\n",
      "only showing top 5 rows"
     ]
    }
   ],
   "source": [
    "windowSpec = Window.partitionBy(\"requestId\",\"position\").orderBy(\"time_impressed\")\n",
    "\n",
    "impress_log = reqstid_log.filter(F.col(\"Request\").rlike(\"type=impress\")) \n",
    "impress_log = impress_log.withColumn(\"was_impressed\", lit(1))  \\\n",
    ".withColumn(\"row_order\", F.row_number().over(windowSpec))  \n",
    "\n",
    "click_log = reqstid_log.filter(F.col(\"Request\").rlike(\"type=click\")) \n",
    "click_log = click_log.withColumn(\"was_clicked\", lit(1))  \\\n",
    ".withColumnRenamed('time_impressed', 'time_clicked')  \\\n",
    ".select('requestId','gno','position','was_clicked','time_clicked')\n",
    "\n",
    "df_tslog = impress_log.join(click_log, on=['gno','requestId','position'], how='left')  \\\n",
    ".withColumn('was_clicked', when(F.col('was_clicked')==1, 1).otherwise(0))  \\\n",
    ".filter(F.col('is_mobile_OS')==1)  \\\n",
    ".drop('Request', 'UserAgent', 'Source', 'year', 'month', 'day', 'hour','is_mobile_OS','is_mobile_source','process_time','OS')  \n",
    "\n",
    "df_tslog.show(5, False)"
   ]
  },
  {
   "cell_type": "code",
   "execution_count": 8,
   "id": "challenging-channel",
   "metadata": {},
   "outputs": [
    {
     "data": {
      "application/vnd.jupyter.widget-view+json": {
       "model_id": "",
       "version_major": 2,
       "version_minor": 0
      },
      "text/plain": [
       "FloatProgress(value=0.0, bar_style='info', description='Progress:', layout=Layout(height='25px', width='50%'),…"
      ]
     },
     "metadata": {},
     "output_type": "display_data"
    },
    {
     "name": "stdout",
     "output_type": "stream",
     "text": [
      "+------------------------------------+--------------------+-----------------------+\n",
      "|requestId                           |rc                  |request_time           |\n",
      "+------------------------------------+--------------------+-----------------------+\n",
      "|b9ba9f07-7042-4609-9510-388ea31322ca|370535043400380A3F0C|2021-05-24 00:00:00.201|\n",
      "|39265481-6fa4-45c8-b7a7-79412af2347a|20210523300821393161|2021-05-24 00:00:02.085|\n",
      "|4901da8c-768f-4b4a-b5b3-89eba9da4020|20210206100679973926|2021-05-24 00:00:04.952|\n",
      "|23bffd84-e04e-46b0-8168-2ccf04ebf457|340D3E0A320B3A033503|2021-05-24 00:00:04.412|\n",
      "|c4a76b7d-cc06-4dc7-8bd0-6321ac899e51|37053501370232003703|2021-05-24 00:00:02.081|\n",
      "+------------------------------------+--------------------+-----------------------+\n",
      "only showing top 5 rows"
     ]
    }
   ],
   "source": [
    "request_meta = spark.read.format(\"hudi\") \\\n",
    ".option(\"hoodie.datasource.query.type\", \"snapshot\") \\\n",
    ".load(\"/user/webuser/ai/recommendation/streaming/hudi/request_meta/2021/05/{21,22,23,24,25,26,27}\")  \\\n",
    ".select('requestId','rc','timestamp')  \\\n",
    ".withColumnRenamed('timestamp', 'request_time')\n",
    "\n",
    "request_meta.show(5, False)"
   ]
  },
  {
   "cell_type": "markdown",
   "id": "valuable-vehicle",
   "metadata": {},
   "source": [
    "# Calculate browsing time"
   ]
  },
  {
   "cell_type": "code",
   "execution_count": 9,
   "id": "occasional-traveler",
   "metadata": {},
   "outputs": [
    {
     "data": {
      "application/vnd.jupyter.widget-view+json": {
       "model_id": "",
       "version_major": 2,
       "version_minor": 0
      },
      "text/plain": [
       "FloatProgress(value=0.0, bar_style='info', description='Progress:', layout=Layout(height='25px', width='50%'),…"
      ]
     },
     "metadata": {},
     "output_type": "display_data"
    },
    {
     "name": "stdout",
     "output_type": "stream",
     "text": [
      "+-------+-----------------+\n",
      "|summary|  request2impress|\n",
      "+-------+-----------------+\n",
      "|  count|         12251131|\n",
      "|   mean|1886.271370782012|\n",
      "| stddev|15021.81066000784|\n",
      "|    min|          -950403|\n",
      "|    max|         10973098|\n",
      "+-------+-----------------+"
     ]
    }
   ],
   "source": [
    "#calculate the browsing time \n",
    "df_duration = df_tslog.join(request_meta, on='requestId',how='left').filter(F.col('row_order')==1)  \\\n",
    ".withColumn('time',sf.from_unixtime(F.col('time_impressed')/1000,'yyyy-MM-dd HH:mm:ss')) \\\n",
    ".withColumn('time', to_timestamp('time'))  \\\n",
    ".withColumn('request2impress', F.unix_timestamp('time') - F.unix_timestamp('request_time'))\n",
    "\n",
    "browsing = df_duration.groupBy('requestId').agg(sf.max('request2impress').alias('browsing'))\n",
    "df_duration.describe('request2impress').show()"
   ]
  },
  {
   "cell_type": "code",
   "execution_count": 10,
   "id": "substantial-ghana",
   "metadata": {},
   "outputs": [
    {
     "data": {
      "application/vnd.jupyter.widget-view+json": {
       "model_id": "",
       "version_major": 2,
       "version_minor": 0
      },
      "text/plain": [
       "FloatProgress(value=0.0, bar_style='info', description='Progress:', layout=Layout(height='25px', width='50%'),…"
      ]
     },
     "metadata": {},
     "output_type": "display_data"
    },
    {
     "name": "stdout",
     "output_type": "stream",
     "text": [
      "[7.0, 12.0, 18.0, 26.0, 37.0, 50.0, 66.0, 86.0, 113.0, 147.0, 192.0, 254.0, 340.0, 464.0, 651.0, 943.0, 1417.0, 2166.0, 5634.0]"
     ]
    }
   ],
   "source": [
    "quantiles = browsing.approxQuantile(\"browsing\", list(i*0.05 for i in range(1,20)), 0)\n",
    "print(quantiles)"
   ]
  },
  {
   "cell_type": "code",
   "execution_count": 11,
   "id": "expressed-elite",
   "metadata": {},
   "outputs": [
    {
     "data": {
      "application/vnd.jupyter.widget-view+json": {
       "model_id": "",
       "version_major": 2,
       "version_minor": 0
      },
      "text/plain": [
       "FloatProgress(value=0.0, bar_style='info', description='Progress:', layout=Layout(height='25px', width='50%'),…"
      ]
     },
     "metadata": {},
     "output_type": "display_data"
    },
    {
     "name": "stdout",
     "output_type": "stream",
     "text": [
      "[41.0, 73.0, 107.0, 143.0, 185.0, 233.0, 285.0, 343.0, 417.0, 494.0, 591.0, 709.0, 852.0, 1012.0, 1207.0, 1440.0, 1726.0, 2118.0, 2648.0]"
     ]
    }
   ],
   "source": [
    "#users who browse the guess you like after refresh\n",
    "duration2 = df_tslog.filter(F.col('row_order')==2).select('requestId')\n",
    "browsing2 = browsing.join(duration2, on='requestId', how='inner')\n",
    "quantiles2 = browsing2.approxQuantile(\"browsing\", list(i*0.05 for i in range(1,20)), 0)\n",
    "print(quantiles2)"
   ]
  },
  {
   "cell_type": "markdown",
   "id": "afraid-power",
   "metadata": {},
   "source": [
    "# Conditional logit"
   ]
  },
  {
   "cell_type": "code",
   "execution_count": 12,
   "id": "illegal-guyana",
   "metadata": {},
   "outputs": [
    {
     "data": {
      "application/vnd.jupyter.widget-view+json": {
       "model_id": "",
       "version_major": 2,
       "version_minor": 0
      },
      "text/plain": [
       "FloatProgress(value=0.0, bar_style='info', description='Progress:', layout=Layout(height='25px', width='50%'),…"
      ]
     },
     "metadata": {},
     "output_type": "display_data"
    }
   ],
   "source": [
    "df_choice = df_tslog.filter((F.col('position')<=4)&(F.col('row_order')==1)).withColumn('label', F.col('position')*F.col('was_clicked'))\n",
    "\n",
    "boolean_list = ['sellerDiscount','rutenDiscount','noShippingCost','pCoin','oversea','shippingDiscount','limitesDeliver']\n",
    "for i in boolean_list:\n",
    "    df_choice = df_choice.withColumn(i, F.col(i).cast(IntegerType()))\n",
    "\n",
    "df_choice = df_choice.withColumn('DIEN', when(F.col('recommender')=='recmd',1).otherwise(0))"
   ]
  },
  {
   "cell_type": "markdown",
   "id": "crazy-delhi",
   "metadata": {},
   "source": [
    "# Imported Calibrated score"
   ]
  },
  {
   "cell_type": "code",
   "execution_count": 13,
   "id": "empty-virgin",
   "metadata": {},
   "outputs": [
    {
     "data": {
      "application/vnd.jupyter.widget-view+json": {
       "model_id": "",
       "version_major": 2,
       "version_minor": 0
      },
      "text/plain": [
       "FloatProgress(value=0.0, bar_style='info', description='Progress:', layout=Layout(height='25px', width='50%'),…"
      ]
     },
     "metadata": {},
     "output_type": "display_data"
    }
   ],
   "source": [
    "candidate_log = spark.read.format(\"hudi\") \\\n",
    ".option(\"hoodie.datasource.query.type\", \"snapshot\") \\\n",
    ".load(\"/user/webuser/ai/recommendation/streaming/hudi/candidates/2021/05/{21,22,23,24,25,26,27}\")"
   ]
  },
  {
   "cell_type": "code",
   "execution_count": 14,
   "id": "flying-rouge",
   "metadata": {},
   "outputs": [
    {
     "data": {
      "application/vnd.jupyter.widget-view+json": {
       "model_id": "",
       "version_major": 2,
       "version_minor": 0
      },
      "text/plain": [
       "FloatProgress(value=0.0, bar_style='info', description='Progress:', layout=Layout(height='25px', width='50%'),…"
      ]
     },
     "metadata": {},
     "output_type": "display_data"
    }
   ],
   "source": [
    "candidate_schema = StructType() \\\n",
    "    .add(\"Date\", StringType()) \\\n",
    "    .add(\"ClientIP\", StringType()) \\\n",
    "    .add(\"Request\", StringType()) \\\n",
    "    .add(\"Status\", StringType()) \\\n",
    "    .add(\"UserAgent\", StringType()) \\\n",
    "    .add(\"Source\", StringType()) \\\n",
    "    .add(\"third_ts_id\", StringType()) \\\n",
    "    .add(\"CID\", StringType())"
   ]
  },
  {
   "cell_type": "code",
   "execution_count": 15,
   "id": "second-cleaners",
   "metadata": {},
   "outputs": [
    {
     "data": {
      "application/vnd.jupyter.widget-view+json": {
       "model_id": "",
       "version_major": 2,
       "version_minor": 0
      },
      "text/plain": [
       "FloatProgress(value=0.0, bar_style='info', description='Progress:', layout=Layout(height='25px', width='50%'),…"
      ]
     },
     "metadata": {},
     "output_type": "display_data"
    },
    {
     "name": "stdout",
     "output_type": "stream",
     "text": [
      "+------------------------------------+--------------+------------+-----------+--------------------+--------------------------+-----+-------+-----+-----------+------+-------+-------+\n",
      "|requestId                           |gno           |category    |pCTR       |score               |recall                    |price|soldNum|watch|by_alsoview|by_egs|by_ydnn|by_meta|\n",
      "+------------------------------------+--------------+------------+-----------+--------------------+--------------------------+-----+-------+-----+-----------+------+-------+-------+\n",
      "|ddc93ac9-27f9-4e49-85e0-cded3f46af36|22116854640582|00090014    |0.996163487|0.005158966154255028|[ydnn, metapath2vec, eges]|null |null   |null |false      |true  |true   |true   |\n",
      "|ddc93ac9-27f9-4e49-85e0-cded3f46af36|22118192987842|00090014    |0.994080245|0.004250599379210514|[ydnn, metapath2vec, eges]|null |null   |null |false      |true  |true   |true   |\n",
      "|ddc93ac9-27f9-4e49-85e0-cded3f46af36|22119317164063|000900130009|0.988546968|0.003393791113449818|[ydnn, metapath2vec, eges]|null |null   |null |false      |true  |true   |true   |\n",
      "|ddc93ac9-27f9-4e49-85e0-cded3f46af36|22119457107593|00090014    |0.985812962|0.003393791113449818|[ydnn, metapath2vec, eges]|null |null   |null |false      |true  |true   |true   |\n",
      "|ddc93ac9-27f9-4e49-85e0-cded3f46af36|22119347948684|00090014    |0.985812962|0.003393791113449818|[ydnn, metapath2vec, eges]|null |null   |null |false      |true  |true   |true   |\n",
      "+------------------------------------+--------------+------------+-----------+--------------------+--------------------------+-----+-------+-----+-----------+------+-------+-------+\n",
      "only showing top 5 rows"
     ]
    }
   ],
   "source": [
    "df_can = candidate_log.select(\"requestId\", sf.explode(\"candidates\")) \\\n",
    ".select(\"requestId\", \"col.*\").select(\"requestId\",\"gno\",\"category\",\"pCTR\",\"score\",\"recall\",\"price\",\"soldNum\", \\\n",
    "\"watch\", \\\n",
    "F.array_contains(\"recall\", \"alsoviewV3\").alias(\"by_alsoview\"), \\\n",
    "F.array_contains(\"recall\", \"eges\").alias(\"by_egs\"), \\\n",
    "F.array_contains(\"recall\", \"ydnn\").alias(\"by_ydnn\"), \\\n",
    "F.array_contains(\"recall\", \"metapath2vec\").alias(\"by_meta\"))\n",
    "df_can.show(5,False)"
   ]
  },
  {
   "cell_type": "code",
   "execution_count": 16,
   "id": "helpful-component",
   "metadata": {},
   "outputs": [
    {
     "data": {
      "application/vnd.jupyter.widget-view+json": {
       "model_id": "",
       "version_major": 2,
       "version_minor": 0
      },
      "text/plain": [
       "FloatProgress(value=0.0, bar_style='info', description='Progress:', layout=Layout(height='25px', width='50%'),…"
      ]
     },
     "metadata": {},
     "output_type": "display_data"
    }
   ],
   "source": [
    "df_can = df_can.select('requestId','gno','score')\n",
    "df_choice = df_choice.join(df_can, on= ['requestId','gno'], how='left')  \\\n",
    ".filter(F.col('score').isNotNull())\n",
    "\n",
    "df_choice_id = df_choice.groupBy('requestId')  \\\n",
    ".agg(F.sum('label').alias('label'), F.sum('was_impressed').alias('impress'), F.sum('was_clicked').alias('click'), F.sum('DIEN').alias('DIEN'))  \\\n",
    ".filter((F.col('impress')==4)&(F.col('click')<=1)&(F.col('DIEN')==4))"
   ]
  },
  {
   "cell_type": "code",
   "execution_count": 17,
   "id": "published-painting",
   "metadata": {},
   "outputs": [
    {
     "data": {
      "application/vnd.jupyter.widget-view+json": {
       "model_id": "",
       "version_major": 2,
       "version_minor": 0
      },
      "text/plain": [
       "FloatProgress(value=0.0, bar_style='info', description='Progress:', layout=Layout(height='25px', width='50%'),…"
      ]
     },
     "metadata": {},
     "output_type": "display_data"
    }
   ],
   "source": [
    "def Remove_NA(df, column_list):\n",
    "    for column in column_list:\n",
    "        df = df.filter(F.col(column).isNotNull())\n",
    "    return df"
   ]
  },
  {
   "cell_type": "code",
   "execution_count": 18,
   "id": "veterinary-gauge",
   "metadata": {},
   "outputs": [
    {
     "data": {
      "application/vnd.jupyter.widget-view+json": {
       "model_id": "",
       "version_major": 2,
       "version_minor": 0
      },
      "text/plain": [
       "FloatProgress(value=0.0, bar_style='info', description='Progress:', layout=Layout(height='25px', width='50%'),…"
      ]
     },
     "metadata": {},
     "output_type": "display_data"
    }
   ],
   "source": [
    "choice_list = ['choice1','choice2','choice3','choice4']\n",
    "null_list = ['soldNum','watch','sellerDiscount','rutenDiscount','noShippingCost','pCoin','oversea','shippingDiscount','limitesDeliver','score']\n",
    "for choice in choice_list:\n",
    "    globals()[choice] = df_choice_id.filter((F.col('label')==0)|(F.col('label')==choice[6])).join(df_choice, on=['requestId','label'], how='left').filter(F.col('position')==choice[6])\n",
    "    globals()[choice] = Remove_NA(globals()[choice], null_list)"
   ]
  },
  {
   "cell_type": "markdown",
   "id": "nutritional-break",
   "metadata": {},
   "source": [
    "# Logit"
   ]
  },
  {
   "cell_type": "code",
   "execution_count": 19,
   "id": "seasonal-annual",
   "metadata": {},
   "outputs": [
    {
     "data": {
      "application/vnd.jupyter.widget-view+json": {
       "model_id": "",
       "version_major": 2,
       "version_minor": 0
      },
      "text/plain": [
       "FloatProgress(value=0.0, bar_style='info', description='Progress:', layout=Layout(height='25px', width='50%'),…"
      ]
     },
     "metadata": {},
     "output_type": "display_data"
    }
   ],
   "source": [
    "#Regress was_clicked on Discount\n",
    "from pyspark.ml.feature import VectorAssembler\n",
    "assembler = VectorAssembler(inputCols =['sellerDiscount','rutenDiscount','noShippingCost','pCoin','shippingDiscount','limitesDeliver', 'score'], outputCol = 'features')\n",
    "assembler_df1 = assembler.transform(choice1)\n",
    "assembler_df2 = assembler.transform(choice2)\n",
    "assembler_df3 = assembler.transform(choice3)\n",
    "assembler_df4 = assembler.transform(choice4)"
   ]
  },
  {
   "cell_type": "code",
   "execution_count": 20,
   "id": "classified-blend",
   "metadata": {},
   "outputs": [
    {
     "data": {
      "application/vnd.jupyter.widget-view+json": {
       "model_id": "",
       "version_major": 2,
       "version_minor": 0
      },
      "text/plain": [
       "FloatProgress(value=0.0, bar_style='info', description='Progress:', layout=Layout(height='25px', width='50%'),…"
      ]
     },
     "metadata": {},
     "output_type": "display_data"
    }
   ],
   "source": [
    "from pyspark.ml.regression import GeneralizedLinearRegression\n",
    "glr = GeneralizedLinearRegression(family=\"binomial\",featuresCol='features', labelCol = 'was_clicked', maxIter=10)\n",
    "# Fit the model\n",
    "model1 = glr.fit(assembler_df1)\n",
    "model2 = glr.fit(assembler_df2)\n",
    "model3 = glr.fit(assembler_df3)\n",
    "model4 = glr.fit(assembler_df4)"
   ]
  },
  {
   "cell_type": "code",
   "execution_count": 21,
   "id": "similar-mentor",
   "metadata": {},
   "outputs": [
    {
     "data": {
      "application/vnd.jupyter.widget-view+json": {
       "model_id": "",
       "version_major": 2,
       "version_minor": 0
      },
      "text/plain": [
       "FloatProgress(value=0.0, bar_style='info', description='Progress:', layout=Layout(height='25px', width='50%'),…"
      ]
     },
     "metadata": {},
     "output_type": "display_data"
    },
    {
     "name": "stdout",
     "output_type": "stream",
     "text": [
      "model1\n",
      "Coefficients:\n",
      "         Feature Estimate Std Error T Value P Value\n",
      "     (Intercept)  -3.0673    0.5160 -5.9447  0.0000\n",
      "  sellerDiscount  -0.2259    0.1196 -1.8889  0.0589\n",
      "   rutenDiscount  -0.1713    0.0920 -1.8623  0.0626\n",
      "  noShippingCost   0.1914    0.0755  2.5362  0.0112\n",
      "           pCoin  -0.0898    0.0518 -1.7346  0.0828\n",
      "shippingDiscount  -0.0216    0.5160 -0.0419  0.9666\n",
      "  limitesDeliver  -0.0485    0.0686 -0.7072  0.4795\n",
      "           score  20.6958    2.4770  8.3552  0.0000\n",
      "\n",
      "(Dispersion parameter for binomial family taken to be 1.0000)\n",
      "    Null deviance: 14630.5482 on 34596 degrees of freedom\n",
      "Residual deviance: 14547.6666 on 34596 degrees of freedom\n",
      "AIC: 14563.6666\n",
      "model2\n",
      "Coefficients:\n",
      "         Feature Estimate Std Error T Value P Value\n",
      "     (Intercept)  -3.2625    0.5134 -6.3551  0.0000\n",
      "  sellerDiscount   0.1671    0.1139  1.4670  0.1424\n",
      "   rutenDiscount   0.0450    0.0940  0.4788  0.6321\n",
      "  noShippingCost   0.0131    0.0858  0.1528  0.8786\n",
      "           pCoin   0.0282    0.0582  0.4843  0.6281\n",
      "shippingDiscount  -0.0410    0.5134 -0.0798  0.9364\n",
      "  limitesDeliver  -0.1084    0.0757 -1.4326  0.1520\n",
      "           score  18.2199    2.8790  6.3286  0.0000\n",
      "\n",
      "(Dispersion parameter for binomial family taken to be 1.0000)\n",
      "    Null deviance: 12681.6742 on 34266 degrees of freedom\n",
      "Residual deviance: 12636.4762 on 34266 degrees of freedom\n",
      "AIC: 12652.4762\n",
      "model3\n",
      "Coefficients:\n",
      "         Feature Estimate Std Error T Value P Value\n",
      "     (Intercept)  -2.8808    0.4649 -6.1972  0.0000\n",
      "  sellerDiscount  -0.0565    0.1553 -0.3640  0.7158\n",
      "   rutenDiscount  -0.4981    0.1417 -3.5160  0.0004\n",
      "  noShippingCost   0.0665    0.1061  0.6264  0.5311\n",
      "           pCoin   0.0997    0.0730  1.3645  0.1724\n",
      "shippingDiscount  -0.8848    0.4652 -1.9018  0.0572\n",
      "  limitesDeliver   0.0100    0.0929  0.1072  0.9146\n",
      "           score  18.2922    3.6937  4.9523  0.0000\n",
      "\n",
      "(Dispersion parameter for binomial family taken to be 1.0000)\n",
      "    Null deviance: 8950.0562 on 33707 degrees of freedom\n",
      "Residual deviance: 8908.2390 on 33707 degrees of freedom\n",
      "AIC: 8924.2390\n",
      "model4\n",
      "Coefficients:\n",
      "         Feature Estimate Std Error T Value P Value\n",
      "     (Intercept)  -3.2976    0.5125 -6.4347  0.0000\n",
      "  sellerDiscount   0.0065    0.1507  0.0430  0.9657\n",
      "   rutenDiscount  -0.3061    0.1386 -2.2086  0.0272\n",
      "  noShippingCost  -0.0643    0.1131 -0.5689  0.5694\n",
      "           pCoin  -0.0261    0.0714 -0.3658  0.7145\n",
      "shippingDiscount  -0.3470    0.5131 -0.6764  0.4988\n",
      "  limitesDeliver  -0.1926    0.1003 -1.9201  0.0549\n",
      "           score  17.6983    3.8347  4.6153  0.0000\n",
      "\n",
      "(Dispersion parameter for binomial family taken to be 1.0000)\n",
      "    Null deviance: 8837.7371 on 33704 degrees of freedom\n",
      "Residual deviance: 8804.5898 on 33704 degrees of freedom\n",
      "AIC: 8820.5898"
     ]
    }
   ],
   "source": [
    "print('model1')\n",
    "print(model1.summary)\n",
    "print('model2')\n",
    "print(model2.summary)\n",
    "print('model3')\n",
    "print(model3.summary)\n",
    "print('model4')\n",
    "print(model4.summary)"
   ]
  },
  {
   "cell_type": "markdown",
   "id": "stuck-escape",
   "metadata": {},
   "source": [
    "# Discount plus watch&sold"
   ]
  },
  {
   "cell_type": "code",
   "execution_count": 22,
   "id": "level-mayor",
   "metadata": {},
   "outputs": [
    {
     "data": {
      "application/vnd.jupyter.widget-view+json": {
       "model_id": "",
       "version_major": 2,
       "version_minor": 0
      },
      "text/plain": [
       "FloatProgress(value=0.0, bar_style='info', description='Progress:', layout=Layout(height='25px', width='50%'),…"
      ]
     },
     "metadata": {},
     "output_type": "display_data"
    },
    {
     "name": "stderr",
     "output_type": "stream",
     "text": [
      "An error was encountered:\n",
      "invalid syntax (<stdin>, line 1)\n",
      "  File \"<stdin>\", line 1\n",
      "    for choice in choice_list\n",
      "                            ^\n",
      "SyntaxError: invalid syntax\n",
      "\n"
     ]
    }
   ],
   "source": [
    "for choice in choice_list\n",
    "    globals()[choice] = globals()[choice].withColumn('log_sold', sf.log(F.col('soldNum')+1))  \\\n",
    "    .withColumn('log_watch', sf.log(F.col('watch')+1))  \\\n",
    "    .withColumn('log_maxPrice', sf.log(F.col('maxPrice')+1))  \\\n",
    "    .withColumn('log_minPrice', sf.log(F.col('minPrice')+1))"
   ]
  },
  {
   "cell_type": "code",
   "execution_count": 23,
   "id": "immediate-expansion",
   "metadata": {},
   "outputs": [
    {
     "data": {
      "application/vnd.jupyter.widget-view+json": {
       "model_id": "",
       "version_major": 2,
       "version_minor": 0
      },
      "text/plain": [
       "FloatProgress(value=0.0, bar_style='info', description='Progress:', layout=Layout(height='25px', width='50%'),…"
      ]
     },
     "metadata": {},
     "output_type": "display_data"
    },
    {
     "name": "stderr",
     "output_type": "stream",
     "text": [
      "An error was encountered:\n",
      "'Field \"log_watch\" does not exist.\\nAvailable fields: requestId, label, impress, click, DIEN, gno, position, price, title, soldNum, watch, sellerDiscount, rutenDiscount, noShippingCost, pCoin, oversea, shippingDiscount, campaign, maxPrice, minPrice, limitesDeliver, time_impressed, recommender, rc, CID, was_impressed, row_order, was_clicked, time_clicked, DIEN, score'\n",
      "Traceback (most recent call last):\n",
      "  File \"/home/webuser/spark-2.4.3-bin-hadoop2.7/python/pyspark/ml/base.py\", line 173, in transform\n",
      "    return self._transform(dataset)\n",
      "  File \"/home/webuser/spark-2.4.3-bin-hadoop2.7/python/pyspark/ml/wrapper.py\", line 312, in _transform\n",
      "    return DataFrame(self._java_obj.transform(dataset._jdf), dataset.sql_ctx)\n",
      "  File \"/mnt/hdfs1/nm/usercache/webuser/appcache/application_1600149154303_886955/container_1600149154303_886955_01_000001/py4j-0.10.7-src.zip/py4j/java_gateway.py\", line 1257, in __call__\n",
      "    answer, self.gateway_client, self.target_id, self.name)\n",
      "  File \"/home/webuser/spark-2.4.3-bin-hadoop2.7/python/pyspark/sql/utils.py\", line 79, in deco\n",
      "    raise IllegalArgumentException(s.split(': ', 1)[1], stackTrace)\n",
      "pyspark.sql.utils.IllegalArgumentException: 'Field \"log_watch\" does not exist.\\nAvailable fields: requestId, label, impress, click, DIEN, gno, position, price, title, soldNum, watch, sellerDiscount, rutenDiscount, noShippingCost, pCoin, oversea, shippingDiscount, campaign, maxPrice, minPrice, limitesDeliver, time_impressed, recommender, rc, CID, was_impressed, row_order, was_clicked, time_clicked, DIEN, score'\n",
      "\n"
     ]
    }
   ],
   "source": [
    "feature2 = ['log_watch','log_sold','log_minPrice','log_maxPrice','sellerDiscount','rutenDiscount','noShippingCost','pCoin','oversea','shippingDiscount','limitesDeliver','score']\n",
    "assembler = VectorAssembler(inputCols = feature2, outputCol = 'features')\n",
    "assembler_df1 = assembler.transform(choice1)\n",
    "assembler_df2 = assembler.transform(choice2)\n",
    "assembler_df3 = assembler.transform(choice3)\n",
    "assembler_df4 = assembler.transform(choice4)"
   ]
  },
  {
   "cell_type": "code",
   "execution_count": null,
   "id": "afraid-minority",
   "metadata": {},
   "outputs": [
    {
     "data": {
      "application/vnd.jupyter.widget-view+json": {
       "model_id": "0c426cf574b74319ba41f2dc65388c9c",
       "version_major": 2,
       "version_minor": 0
      },
      "text/plain": [
       "FloatProgress(value=0.0, bar_style='info', description='Progress:', layout=Layout(height='25px', width='50%'),…"
      ]
     },
     "metadata": {},
     "output_type": "display_data"
    }
   ],
   "source": [
    "glr = GeneralizedLinearRegression(family=\"binomial\",featuresCol='features', labelCol = 'was_clicked', maxIter=100)\n",
    "# Fit the model\n",
    "model1 = glr.fit(assembler_df1)\n",
    "model2 = glr.fit(assembler_df2)\n",
    "model3 = glr.fit(assembler_df3)\n",
    "model4 = glr.fit(assembler_df4)"
   ]
  },
  {
   "cell_type": "code",
   "execution_count": null,
   "id": "bizarre-capability",
   "metadata": {},
   "outputs": [],
   "source": [
    "print('model1')\n",
    "print(model1.summary)\n",
    "print('model2')\n",
    "print(model2.summary)\n",
    "print('model3')\n",
    "print(model3.summary)\n",
    "print('model4')\n",
    "print(model4.summary)"
   ]
  }
 ],
 "metadata": {
  "kernelspec": {
   "display_name": "PySpark",
   "language": "",
   "name": "pysparkkernel"
  },
  "language_info": {
   "codemirror_mode": {
    "name": "python",
    "version": 3
   },
   "mimetype": "text/x-python",
   "name": "pyspark",
   "pygments_lexer": "python3"
  }
 },
 "nbformat": 4,
 "nbformat_minor": 5
}
